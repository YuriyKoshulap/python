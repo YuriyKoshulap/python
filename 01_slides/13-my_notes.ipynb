{
 "cells": [
  {
   "cell_type": "markdown",
   "metadata": {},
   "source": [
    "Class 4"
   ]
  },
  {
   "cell_type": "code",
   "execution_count": 8,
   "metadata": {},
   "outputs": [
    {
     "data": {
      "text/plain": [
       "(3, 'fluctuatig', 'inconstant', 'variable')"
      ]
     },
     "execution_count": 8,
     "metadata": {},
     "output_type": "execute_result"
    }
   ],
   "source": [
    "# Tuples\n",
    "# built-in datatype similar to lists\n",
    "# collection of values\n",
    "# tuples are immutable --> cannot be changed once they are created\n",
    "\n",
    "mutable_synonyms = (3, 'fluctuatig', 'inconstant', 'variable')\n",
    "mutable_synonyms"
   ]
  },
  {
   "cell_type": "code",
   "execution_count": 9,
   "metadata": {},
   "outputs": [],
   "source": [
    "\n",
    "# Sets\n",
    "# mutable, unordered and distinct\n",
    "\n",
    "things = {'coat', 'book', 'apple', 'box', 'hair', 'xylophone', 'lock'}"
   ]
  },
  {
   "cell_type": "code",
   "execution_count": 10,
   "metadata": {},
   "outputs": [
    {
     "data": {
      "text/plain": [
       "['cat', 'dog']"
      ]
     },
     "execution_count": 10,
     "metadata": {},
     "output_type": "execute_result"
    }
   ],
   "source": [
    "['cat', 'dog']"
   ]
  },
  {
   "cell_type": "code",
   "execution_count": 11,
   "metadata": {},
   "outputs": [
    {
     "data": {
      "text/plain": [
       "{'M1M', 'M1T', 'M5V', 'R5R'}"
      ]
     },
     "execution_count": 11,
     "metadata": {},
     "output_type": "execute_result"
    }
   ],
   "source": [
    "visitor_post_codes = ['R5R', 'M5V', 'M1M', 'M1M', 'M1T']\n",
    "# to remove duplicates and return in alphabetical order, make list into a set\n",
    "set(visitor_post_codes)"
   ]
  },
  {
   "cell_type": "code",
   "execution_count": 12,
   "metadata": {},
   "outputs": [],
   "source": [
    "# create an empty set\n",
    "\n",
    "empty_set = set()"
   ]
  },
  {
   "cell_type": "code",
   "execution_count": 13,
   "metadata": {},
   "outputs": [
    {
     "data": {
      "text/plain": [
       "True"
      ]
     },
     "execution_count": 13,
     "metadata": {},
     "output_type": "execute_result"
    }
   ],
   "source": [
    "#checkin for membership\n",
    "'lock' in things"
   ]
  },
  {
   "cell_type": "code",
   "execution_count": 14,
   "metadata": {},
   "outputs": [],
   "source": [
    "things.add('apple')"
   ]
  },
  {
   "cell_type": "code",
   "execution_count": 15,
   "metadata": {},
   "outputs": [
    {
     "data": {
      "text/plain": [
       "{'apple', 'book', 'box', 'coat', 'hair', 'lock', 'xylophone'}"
      ]
     },
     "execution_count": 15,
     "metadata": {},
     "output_type": "execute_result"
    }
   ],
   "source": [
    "things"
   ]
  },
  {
   "cell_type": "code",
   "execution_count": 16,
   "metadata": {},
   "outputs": [],
   "source": [
    "things.remove('lock')"
   ]
  },
  {
   "cell_type": "code",
   "execution_count": 17,
   "metadata": {},
   "outputs": [
    {
     "data": {
      "text/plain": [
       "{'apple', 'book', 'box', 'coat', 'hair', 'xylophone'}"
      ]
     },
     "execution_count": 17,
     "metadata": {},
     "output_type": "execute_result"
    }
   ],
   "source": [
    "things"
   ]
  },
  {
   "cell_type": "code",
   "execution_count": 18,
   "metadata": {},
   "outputs": [],
   "source": [
    "# union --> combine two sets to get the unique value in both\n",
    "# intersection --> the values two sets have in common\n",
    "# symmetric difference --> find the values that are only in one of the two sets\n",
    "# difference --> find the values in the first set that are not in teh second set\n",
    "\n",
    "rainbow = {'red', 'orange', 'yellow', 'green', 'blue', 'indigo', 'violet'}\n",
    "olympic_flag = {'red', 'green', 'yellow', 'blue', 'black'}"
   ]
  },
  {
   "cell_type": "code",
   "execution_count": 19,
   "metadata": {},
   "outputs": [
    {
     "data": {
      "text/plain": [
       "{'indigo', 'orange', 'violet'}"
      ]
     },
     "execution_count": 19,
     "metadata": {},
     "output_type": "execute_result"
    }
   ],
   "source": [
    "rainbow.difference(olympic_flag)"
   ]
  },
  {
   "cell_type": "code",
   "execution_count": 20,
   "metadata": {},
   "outputs": [
    {
     "data": {
      "text/plain": [
       "{'black'}"
      ]
     },
     "execution_count": 20,
     "metadata": {},
     "output_type": "execute_result"
    }
   ],
   "source": [
    "olympic_flag.difference(rainbow)"
   ]
  },
  {
   "cell_type": "code",
   "execution_count": 21,
   "metadata": {},
   "outputs": [
    {
     "data": {
      "text/plain": [
       "{'black', 'indigo', 'orange', 'violet'}"
      ]
     },
     "execution_count": 21,
     "metadata": {},
     "output_type": "execute_result"
    }
   ],
   "source": [
    "rainbow.symmetric_difference(olympic_flag)"
   ]
  },
  {
   "cell_type": "code",
   "execution_count": 22,
   "metadata": {},
   "outputs": [
    {
     "data": {
      "text/plain": [
       "{'blue', 'green', 'red', 'yellow'}"
      ]
     },
     "execution_count": 22,
     "metadata": {},
     "output_type": "execute_result"
    }
   ],
   "source": [
    "rainbow.intersection(olympic_flag)"
   ]
  },
  {
   "cell_type": "code",
   "execution_count": 23,
   "metadata": {},
   "outputs": [
    {
     "data": {
      "text/plain": [
       "{'black', 'blue', 'green', 'indigo', 'orange', 'red', 'violet', 'yellow'}"
      ]
     },
     "execution_count": 23,
     "metadata": {},
     "output_type": "execute_result"
    }
   ],
   "source": [
    "rainbow.union(olympic_flag)"
   ]
  },
  {
   "cell_type": "code",
   "execution_count": 24,
   "metadata": {},
   "outputs": [
    {
     "data": {
      "text/plain": [
       "{'blue', 'green', 'indigo', 'orange', 'red', 'violet', 'yellow'}"
      ]
     },
     "execution_count": 24,
     "metadata": {},
     "output_type": "execute_result"
    }
   ],
   "source": [
    "rainbow"
   ]
  },
  {
   "cell_type": "code",
   "execution_count": 25,
   "metadata": {},
   "outputs": [
    {
     "data": {
      "text/plain": [
       "{'black', 'blue', 'green', 'red', 'yellow'}"
      ]
     },
     "execution_count": 25,
     "metadata": {},
     "output_type": "execute_result"
    }
   ],
   "source": [
    "olympic_flag"
   ]
  },
  {
   "cell_type": "code",
   "execution_count": 26,
   "metadata": {},
   "outputs": [
    {
     "data": {
      "text/plain": [
       "{'Canada': 'Ottawa', 'USA': 'D.C.', 'Mexico': 'Mexico City'}"
      ]
     },
     "execution_count": 26,
     "metadata": {},
     "output_type": "execute_result"
    }
   ],
   "source": [
    "# dictionaries\n",
    "# Key:Value pairs\n",
    "# ordered and mutable\n",
    "# every key in a dictionary is unique\n",
    "\n",
    "capital = {'Canada': 'Ottawa',\n",
    "            'USA': 'D.C.',\n",
    "            'Mexico': 'Mexico City'}\n",
    "capital"
   ]
  },
  {
   "cell_type": "code",
   "execution_count": 27,
   "metadata": {},
   "outputs": [
    {
     "data": {
      "text/plain": [
       "{2020: 'Tokyo', 2016: 'Rio de Janeiro', 2012: 'London'}"
      ]
     },
     "execution_count": 27,
     "metadata": {},
     "output_type": "execute_result"
    }
   ],
   "source": [
    "olympic_cities = {2020: 'Tokyo',\n",
    "                2016: 'Rio de Janeiro',\n",
    "                2012: 'London'}\n",
    "olympic_cities"
   ]
  },
  {
   "cell_type": "code",
   "execution_count": 28,
   "metadata": {},
   "outputs": [
    {
     "data": {
      "text/plain": [
       "{'summer': {2020: 'Tokyo', 2016: 'Rio de Janeiro', 2012: 'London'},\n",
       " 'winter': {2022: 'Beijing', 2018: 'Pyeongchang'}}"
      ]
     },
     "execution_count": 28,
     "metadata": {},
     "output_type": "execute_result"
    }
   ],
   "source": [
    "all_olympic_host = {'summer': olympic_cities,\n",
    "                    'winter': {2022: 'Beijing', 2018: 'Pyeongchang'}}\n",
    "all_olympic_host"
   ]
  },
  {
   "cell_type": "code",
   "execution_count": 29,
   "metadata": {},
   "outputs": [
    {
     "data": {
      "text/plain": [
       "dict"
      ]
     },
     "execution_count": 29,
     "metadata": {},
     "output_type": "execute_result"
    }
   ],
   "source": [
    "# empty dictionary\n",
    "empty_dictionary = {}\n",
    "type(empty_dictionary)"
   ]
  },
  {
   "cell_type": "code",
   "execution_count": 30,
   "metadata": {},
   "outputs": [
    {
     "data": {
      "text/plain": [
       "dict"
      ]
     },
     "execution_count": 30,
     "metadata": {},
     "output_type": "execute_result"
    }
   ],
   "source": [
    "still_empty = dict()\n",
    "type(still_empty)"
   ]
  },
  {
   "cell_type": "code",
   "execution_count": 31,
   "metadata": {},
   "outputs": [
    {
     "data": {
      "text/plain": [
       "{2020: 'Tokyo', 2016: 'Rio de Janeiro', 2012: 'London'}"
      ]
     },
     "execution_count": 31,
     "metadata": {},
     "output_type": "execute_result"
    }
   ],
   "source": [
    "# access dict by passing number\n",
    "olympic_cities"
   ]
  },
  {
   "cell_type": "code",
   "execution_count": 32,
   "metadata": {},
   "outputs": [
    {
     "data": {
      "text/plain": [
       "'London'"
      ]
     },
     "execution_count": 32,
     "metadata": {},
     "output_type": "execute_result"
    }
   ],
   "source": [
    "olympic_cities[2012]"
   ]
  },
  {
   "cell_type": "code",
   "execution_count": 33,
   "metadata": {},
   "outputs": [
    {
     "data": {
      "text/plain": [
       "{'summer': {2020: 'Tokyo', 2016: 'Rio de Janeiro', 2012: 'London'},\n",
       " 'winter': {2022: 'Beijing', 2018: 'Pyeongchang'}}"
      ]
     },
     "execution_count": 33,
     "metadata": {},
     "output_type": "execute_result"
    }
   ],
   "source": [
    "all_olympic_host"
   ]
  },
  {
   "cell_type": "code",
   "execution_count": 34,
   "metadata": {},
   "outputs": [
    {
     "data": {
      "text/plain": [
       "'Beijing'"
      ]
     },
     "execution_count": 34,
     "metadata": {},
     "output_type": "execute_result"
    }
   ],
   "source": [
    "all_olympic_host['winter'][2022]"
   ]
  },
  {
   "cell_type": "code",
   "execution_count": 35,
   "metadata": {},
   "outputs": [
    {
     "data": {
      "text/plain": [
       "'Tokyo'"
      ]
     },
     "execution_count": 35,
     "metadata": {},
     "output_type": "execute_result"
    }
   ],
   "source": [
    "all_olympic_host['summer'][2020]"
   ]
  },
  {
   "cell_type": "code",
   "execution_count": 38,
   "metadata": {},
   "outputs": [
    {
     "ename": "KeyError",
     "evalue": "2014",
     "output_type": "error",
     "traceback": [
      "\u001b[1;31m---------------------------------------------------------------------------\u001b[0m",
      "\u001b[1;31mKeyError\u001b[0m                                  Traceback (most recent call last)",
      "Cell \u001b[1;32mIn[38], line 1\u001b[0m\n\u001b[1;32m----> 1\u001b[0m \u001b[43molympic_cities\u001b[49m\u001b[43m[\u001b[49m\u001b[38;5;241;43m2014\u001b[39;49m\u001b[43m]\u001b[49m\n",
      "\u001b[1;31mKeyError\u001b[0m: 2014"
     ]
    }
   ],
   "source": [
    "olympic_cities[2014]\n"
   ]
  },
  {
   "cell_type": "code",
   "execution_count": null,
   "metadata": {},
   "outputs": [
    {
     "data": {
      "text/plain": [
       "'Toronto'"
      ]
     },
     "execution_count": 100,
     "metadata": {},
     "output_type": "execute_result"
    }
   ],
   "source": [
    "# avoiding error with a default value\n",
    "olympic_cities.get(2004, 'Toronto')"
   ]
  },
  {
   "cell_type": "code",
   "execution_count": null,
   "metadata": {},
   "outputs": [
    {
     "data": {
      "text/plain": [
       "True"
      ]
     },
     "execution_count": 102,
     "metadata": {},
     "output_type": "execute_result"
    }
   ],
   "source": [
    "# and operator (with \"in\" operator)\n",
    "2016 in olympic_cities"
   ]
  },
  {
   "cell_type": "code",
   "execution_count": null,
   "metadata": {},
   "outputs": [
    {
     "data": {
      "text/plain": [
       "False"
      ]
     },
     "execution_count": 104,
     "metadata": {},
     "output_type": "execute_result"
    }
   ],
   "source": [
    "'Rio de Janeiro' in olympic_cities"
   ]
  },
  {
   "cell_type": "code",
   "execution_count": null,
   "metadata": {},
   "outputs": [
    {
     "data": {
      "text/plain": [
       "{2020: 'Tokyo', 2016: 'Rio de Janeiro', 2012: 'London', 2008: 'Barcelona'}"
      ]
     },
     "execution_count": 106,
     "metadata": {},
     "output_type": "execute_result"
    }
   ],
   "source": [
    "olympic_cities[2008] = 'Barcelona'\n",
    "olympic_cities"
   ]
  },
  {
   "cell_type": "code",
   "execution_count": null,
   "metadata": {},
   "outputs": [
    {
     "data": {
      "text/plain": [
       "{2020: 'Tokyo', 2016: 'Rio de Janeiro', 2012: 'London', 2008: 'Beijing'}"
      ]
     },
     "execution_count": 108,
     "metadata": {},
     "output_type": "execute_result"
    }
   ],
   "source": [
    "# update value\n",
    "olympic_cities[2008] = 'Beijing'\n",
    "olympic_cities"
   ]
  },
  {
   "cell_type": "code",
   "execution_count": 39,
   "metadata": {},
   "outputs": [
    {
     "data": {
      "text/plain": [
       "{'summer': {2020: 'Tokyo', 2016: 'Rio de Janeiro', 2012: 'London'},\n",
       " 'winter': {2022: 'Beijing', 2018: 'Pyeongchang'}}"
      ]
     },
     "execution_count": 39,
     "metadata": {},
     "output_type": "execute_result"
    }
   ],
   "source": [
    "all_olympic_host"
   ]
  },
  {
   "cell_type": "code",
   "execution_count": 42,
   "metadata": {},
   "outputs": [
    {
     "data": {
      "text/plain": [
       "dict_keys(['summer', 'winter'])"
      ]
     },
     "execution_count": 42,
     "metadata": {},
     "output_type": "execute_result"
    }
   ],
   "source": [
    "all_olympic_host.keys()"
   ]
  },
  {
   "cell_type": "code",
   "execution_count": 44,
   "metadata": {},
   "outputs": [
    {
     "data": {
      "text/plain": [
       "dict_values(['Tokyo', 'Rio de Janeiro', 'London'])"
      ]
     },
     "execution_count": 44,
     "metadata": {},
     "output_type": "execute_result"
    }
   ],
   "source": [
    "olympic_cities.values()"
   ]
  },
  {
   "cell_type": "code",
   "execution_count": 46,
   "metadata": {},
   "outputs": [
    {
     "name": "stdout",
     "output_type": "stream",
     "text": [
      "London was a host city\n"
     ]
    }
   ],
   "source": [
    "if 'London' in olympic_cities.values():\n",
    "    print('London was a host city')\n",
    "else:\n",
    "    print('London was not a host city')"
   ]
  },
  {
   "cell_type": "code",
   "execution_count": 50,
   "metadata": {},
   "outputs": [
    {
     "data": {
      "text/plain": [
       "dict_items([('summer', {2020: 'Tokyo', 2016: 'Rio de Janeiro', 2012: 'London'}), ('winter', {2022: 'Beijing', 2018: 'Pyeongchang'})])"
      ]
     },
     "execution_count": 50,
     "metadata": {},
     "output_type": "execute_result"
    }
   ],
   "source": [
    "# key valye pairs\n",
    "all_olympic_host.items()"
   ]
  },
  {
   "cell_type": "code",
   "execution_count": 52,
   "metadata": {},
   "outputs": [
    {
     "data": {
      "text/plain": [
       "dict_items([(2020, 'Tokyo'), (2016, 'Rio de Janeiro'), (2012, 'London')])"
      ]
     },
     "execution_count": 52,
     "metadata": {},
     "output_type": "execute_result"
    }
   ],
   "source": [
    "#the same as above\n",
    "olympic_cities.items()"
   ]
  },
  {
   "cell_type": "code",
   "execution_count": 55,
   "metadata": {},
   "outputs": [
    {
     "name": "stdout",
     "output_type": "stream",
     "text": [
      "a\n",
      "e\n",
      "i\n",
      "o\n",
      "u\n"
     ]
    }
   ],
   "source": [
    "# Iterations\n",
    "# loop goes through list modifying elements\n",
    "\n",
    "# for loop\n",
    "\n",
    "# runs an indented block of code for every item in an iterable, \n",
    "# e.g. lists, tuples, sets, dictionaries, strings\n",
    "# specify a var name to refer to individ items by\n",
    "# pick one that makes sense or use i (for index)\n",
    "\n",
    "vowels = ['a', 'e', 'i', 'o', 'u']\n",
    "for i in vowels:\n",
    "    print(i)"
   ]
  },
  {
   "cell_type": "code",
   "execution_count": null,
   "metadata": {},
   "outputs": [
    {
     "data": {
      "text/plain": [
       "range(0, 4)"
      ]
     },
     "metadata": {},
     "output_type": "display_data"
    }
   ],
   "source": [
    "range(4)"
   ]
  },
  {
   "cell_type": "code",
   "execution_count": 61,
   "metadata": {},
   "outputs": [
    {
     "name": "stdout",
     "output_type": "stream",
     "text": [
      "0\n",
      "1\n",
      "2\n",
      "3\n",
      "4\n",
      "5\n",
      "6\n"
     ]
    }
   ],
   "source": [
    "for i in range(7):\n",
    "    print(i)"
   ]
  },
  {
   "cell_type": "code",
   "execution_count": 63,
   "metadata": {},
   "outputs": [
    {
     "name": "stdout",
     "output_type": "stream",
     "text": [
      "0 0\n",
      "1 2\n",
      "2 4\n",
      "3 6\n",
      "4 8\n",
      "5 10\n",
      "6 12\n"
     ]
    }
   ],
   "source": [
    "for i in range(7):\n",
    "    print(i, i*2)"
   ]
  },
  {
   "cell_type": "code",
   "execution_count": 67,
   "metadata": {},
   "outputs": [
    {
     "name": "stdout",
     "output_type": "stream",
     "text": [
      "['pracessed_data_01.xlxs']\n",
      "['pracessed_data_01.xlxs', 'pracessed_data_02.xlxs']\n",
      "['pracessed_data_01.xlxs', 'pracessed_data_02.xlxs', 'pracessed_data_03.xlxs']\n",
      "['pracessed_data_01.xlxs', 'pracessed_data_02.xlxs', 'pracessed_data_03.xlxs', 'pracessed_data_04.xlxs']\n"
     ]
    }
   ],
   "source": [
    "input_fifles = ['data_01.csv', 'data_02.csv', 'data_03.csv', 'data_04.csv']\n",
    "output_files = []\n",
    "\n",
    "for i in input_fifles:\n",
    "    output_files_name = 'pracessed_' + i.replace('.csv', '.xlxs')\n",
    "    output_files.append(output_files_name)\n",
    "    print(output_files)"
   ]
  },
  {
   "cell_type": "code",
   "execution_count": 81,
   "metadata": {},
   "outputs": [],
   "source": [
    "# iteration with a set\n",
    "veggies = {'potatoes', 'cabbage', 'carrots', 'celery', 'tomatoes', 'potatoes'}"
   ]
  },
  {
   "cell_type": "code",
   "execution_count": 82,
   "metadata": {},
   "outputs": [
    {
     "data": {
      "text/plain": [
       "{'cabbage', 'carrots', 'celery', 'potatoes', 'tomatoes'}"
      ]
     },
     "execution_count": 82,
     "metadata": {},
     "output_type": "execute_result"
    }
   ],
   "source": [
    "veggies"
   ]
  },
  {
   "cell_type": "code",
   "execution_count": 88,
   "metadata": {},
   "outputs": [
    {
     "name": "stdout",
     "output_type": "stream",
     "text": [
      "I love celery\n",
      "I love carrots\n",
      "I love potatoes\n",
      "I love tomatoes\n",
      "I love cabbage\n"
     ]
    }
   ],
   "source": [
    "for j in veggies: \n",
    "    print(f'I love {j}')\n"
   ]
  },
  {
   "cell_type": "code",
   "execution_count": 93,
   "metadata": {},
   "outputs": [
    {
     "name": "stdout",
     "output_type": "stream",
     "text": [
      "0 Islington\n",
      "1 Royeal York\n",
      "2 Keele\n",
      "3 Jane\n",
      "4 Union\n"
     ]
    }
   ],
   "source": [
    "ttc_stops = ['Islington', 'Royeal York', 'Keele', 'Jane', 'Union']\n",
    "\n",
    "for idx, stop in enumerate(ttc_stops):\n",
    "    print(idx, stop)"
   ]
  },
  {
   "cell_type": "code",
   "execution_count": 95,
   "metadata": {},
   "outputs": [
    {
     "name": "stdout",
     "output_type": "stream",
     "text": [
      "stop 1 is Islington\n",
      "stop 2 is Royeal York\n",
      "stop 3 is Keele\n",
      "stop 4 is Jane\n",
      "stop 5 is Union\n"
     ]
    }
   ],
   "source": [
    "ttc_stops = ['Islington', 'Royeal York', 'Keele', 'Jane', 'Union']\n",
    "\n",
    "for idx, stop in enumerate(ttc_stops):\n",
    "    print(f'stop {idx + 1} is {stop}')"
   ]
  },
  {
   "cell_type": "code",
   "execution_count": 97,
   "metadata": {},
   "outputs": [
    {
     "name": "stdout",
     "output_type": "stream",
     "text": [
      "0 1\n",
      "1 10\n",
      "2 100\n",
      "3 1000\n"
     ]
    }
   ],
   "source": [
    "numbers = [1, 10, 100, 1000]\n",
    "\n",
    "for idx, val in enumerate(numbers):\n",
    "    print(idx, val)"
   ]
  },
  {
   "cell_type": "code",
   "execution_count": 98,
   "metadata": {},
   "outputs": [
    {
     "data": {
      "text/plain": [
       "[2, 20, 200, 2000]"
      ]
     },
     "execution_count": 98,
     "metadata": {},
     "output_type": "execute_result"
    }
   ],
   "source": [
    "numbers = [1, 10, 100, 1000]\n",
    "\n",
    "for idx, val in enumerate(numbers):\n",
    "    numbers[idx] = val * 2\n",
    "numbers"
   ]
  },
  {
   "cell_type": "code",
   "execution_count": 106,
   "metadata": {},
   "outputs": [
    {
     "data": {
      "text/plain": [
       "[2, 20, 200, 2000]"
      ]
     },
     "execution_count": 106,
     "metadata": {},
     "output_type": "execute_result"
    }
   ],
   "source": [
    "# the same without the enumerate() function\n",
    "numbers = [1, 10, 100, 1000]\n",
    "idx = 0\n",
    "\n",
    "for val in numbers:\n",
    "    numbers[idx] = val * 2\n",
    "    idx = idx + 1 # idx += 1\n",
    "numbers"
   ]
  },
  {
   "cell_type": "code",
   "execution_count": 108,
   "metadata": {},
   "outputs": [
    {
     "name": "stdout",
     "output_type": "stream",
     "text": [
      "43.12 0.332\n",
      "24.5433 8.3\n",
      "592.68 90.28\n"
     ]
    }
   ],
   "source": [
    "# example with tuples\n",
    "\n",
    "lats = (43.12, 24.5433, 592.68)\n",
    "lons = (0.332, 8.3, 90.28)\n",
    "\n",
    "for i, j in zip(lats, lons):\n",
    "    print (i, j)"
   ]
  },
  {
   "cell_type": "code",
   "execution_count": 110,
   "metadata": {},
   "outputs": [
    {
     "name": "stdout",
     "output_type": "stream",
     "text": [
      "43.12 0.332\n",
      "24.5433 8.3\n",
      "592.68 90.28\n"
     ]
    }
   ],
   "source": [
    "# example with tuples\n",
    "\n",
    "lats = [43.12, 24.5433, 592.68]\n",
    "lons = [0.332, 8.3, 90.28]\n",
    "\n",
    "for i, j in zip(lats, lons):\n",
    "    print (i, j)"
   ]
  },
  {
   "cell_type": "code",
   "execution_count": 114,
   "metadata": {},
   "outputs": [
    {
     "data": {
      "text/plain": [
       "{2020: 'Tokyo', 2016: 'Rio de Janeiro', 2012: 'London'}"
      ]
     },
     "execution_count": 114,
     "metadata": {},
     "output_type": "execute_result"
    }
   ],
   "source": [
    "olympic_cities"
   ]
  },
  {
   "cell_type": "code",
   "execution_count": 117,
   "metadata": {},
   "outputs": [
    {
     "name": "stdout",
     "output_type": "stream",
     "text": [
      "2020 Tokyo\n",
      "2016 Rio de Janeiro\n",
      "2012 London\n"
     ]
    }
   ],
   "source": [
    "for key, value in olympic_cities.items():\n",
    "    print(key, value)"
   ]
  },
  {
   "cell_type": "code",
   "execution_count": 120,
   "metadata": {},
   "outputs": [
    {
     "name": "stdout",
     "output_type": "stream",
     "text": [
      "My birthday is on april, 12!\n",
      "My birthday is on may, 12!\n",
      "My birthday is on june, 12!\n",
      "My birthday is on jan, 12!\n",
      "My birthday is on february, 12!\n",
      "My birthday is on april, 30!\n",
      "My birthday is on may, 30!\n",
      "My birthday is on june, 30!\n",
      "My birthday is on jan, 30!\n",
      "My birthday is on february, 30!\n",
      "My birthday is on april, 17!\n",
      "My birthday is on may, 17!\n",
      "My birthday is on june, 17!\n",
      "My birthday is on jan, 17!\n",
      "My birthday is on february, 17!\n",
      "My birthday is on april, 6!\n",
      "My birthday is on may, 6!\n",
      "My birthday is on june, 6!\n",
      "My birthday is on jan, 6!\n",
      "My birthday is on february, 6!\n",
      "My birthday is on april, 7!\n",
      "My birthday is on may, 7!\n",
      "My birthday is on june, 7!\n",
      "My birthday is on jan, 7!\n",
      "My birthday is on february, 7!\n"
     ]
    }
   ],
   "source": [
    "# loops within loops\n",
    "days = [12, 30, 17, 6, 7]\n",
    "months = ['april', 'may', 'june', 'jan', 'february']\n",
    "\n",
    "for i in days:\n",
    "    for j in months:\n",
    "        print(f\"My birthday is on {j}, {i}!\")"
   ]
  },
  {
   "cell_type": "code",
   "execution_count": 121,
   "metadata": {},
   "outputs": [
    {
     "name": "stdout",
     "output_type": "stream",
     "text": [
      "My pet is a dog and its name is buddy\n",
      "My pet is a dog and its name is al\n",
      "My pet is a bird and its name is buddy\n",
      "My pet is a bird and its name is al\n",
      "My pet is a cat and its name is buddy\n",
      "My pet is a cat and its name is al\n"
     ]
    }
   ],
   "source": [
    "pets = ['dog', 'bird', 'cat']\n",
    "names = ['buddy', 'al']\n",
    "\n",
    "for i in pets: # i = 'dog'\n",
    "    for j in names: # j = 'buddy'\n",
    "        print(f\"My pet is a {i} and its name is {j}\")"
   ]
  }
 ],
 "metadata": {
  "kernelspec": {
   "display_name": "dsi_participant",
   "language": "python",
   "name": "python3"
  },
  "language_info": {
   "codemirror_mode": {
    "name": "ipython",
    "version": 3
   },
   "file_extension": ".py",
   "mimetype": "text/x-python",
   "name": "python",
   "nbconvert_exporter": "python",
   "pygments_lexer": "ipython3",
   "version": "3.9.15"
  }
 },
 "nbformat": 4,
 "nbformat_minor": 2
}
